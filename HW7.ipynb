{
 "cells": [
  {
   "cell_type": "code",
   "execution_count": 1,
   "metadata": {},
   "outputs": [
    {
     "name": "stdout",
     "output_type": "stream",
     "text": [
      "<class 'pandas.core.frame.DataFrame'>\n",
      "RangeIndex: 30000 entries, 0 to 29999\n",
      "Data columns (total 25 columns):\n",
      "ID           30000 non-null int64\n",
      "LIMIT_BAL    30000 non-null int64\n",
      "SEX          30000 non-null int64\n",
      "EDUCATION    30000 non-null int64\n",
      "MARRIAGE     30000 non-null int64\n",
      "AGE          30000 non-null int64\n",
      "PAY_0        30000 non-null int64\n",
      "PAY_2        30000 non-null int64\n",
      "PAY_3        30000 non-null int64\n",
      "PAY_4        30000 non-null int64\n",
      "PAY_5        30000 non-null int64\n",
      "PAY_6        30000 non-null int64\n",
      "BILL_AMT1    30000 non-null int64\n",
      "BILL_AMT2    30000 non-null int64\n",
      "BILL_AMT3    30000 non-null int64\n",
      "BILL_AMT4    30000 non-null int64\n",
      "BILL_AMT5    30000 non-null int64\n",
      "BILL_AMT6    30000 non-null int64\n",
      "PAY_AMT1     30000 non-null int64\n",
      "PAY_AMT2     30000 non-null int64\n",
      "PAY_AMT3     30000 non-null int64\n",
      "PAY_AMT4     30000 non-null int64\n",
      "PAY_AMT5     30000 non-null int64\n",
      "PAY_AMT6     30000 non-null int64\n",
      "DEFAULT      30000 non-null int64\n",
      "dtypes: int64(25)\n",
      "memory usage: 5.7 MB\n"
     ]
    }
   ],
   "source": [
    "import pandas as pd\n",
    "df = pd.read_csv('C:/Users/11816/Desktop/mechine learning/HW7/ccdefault.csv')\n",
    "df.info()"
   ]
  },
  {
   "cell_type": "code",
   "execution_count": 2,
   "metadata": {},
   "outputs": [
    {
     "name": "stdout",
     "output_type": "stream",
     "text": [
      "<class 'pandas.core.frame.DataFrame'>\n",
      "RangeIndex: 30000 entries, 0 to 29999\n",
      "Data columns (total 24 columns):\n",
      "LIMIT_BAL    30000 non-null int64\n",
      "SEX          30000 non-null int64\n",
      "EDUCATION    30000 non-null int64\n",
      "MARRIAGE     30000 non-null int64\n",
      "AGE          30000 non-null int64\n",
      "PAY_0        30000 non-null int64\n",
      "PAY_2        30000 non-null int64\n",
      "PAY_3        30000 non-null int64\n",
      "PAY_4        30000 non-null int64\n",
      "PAY_5        30000 non-null int64\n",
      "PAY_6        30000 non-null int64\n",
      "BILL_AMT1    30000 non-null int64\n",
      "BILL_AMT2    30000 non-null int64\n",
      "BILL_AMT3    30000 non-null int64\n",
      "BILL_AMT4    30000 non-null int64\n",
      "BILL_AMT5    30000 non-null int64\n",
      "BILL_AMT6    30000 non-null int64\n",
      "PAY_AMT1     30000 non-null int64\n",
      "PAY_AMT2     30000 non-null int64\n",
      "PAY_AMT3     30000 non-null int64\n",
      "PAY_AMT4     30000 non-null int64\n",
      "PAY_AMT5     30000 non-null int64\n",
      "PAY_AMT6     30000 non-null int64\n",
      "DEFAULT      30000 non-null int64\n",
      "dtypes: int64(24)\n",
      "memory usage: 5.5 MB\n"
     ]
    }
   ],
   "source": [
    "da=df.iloc[:,1:]\n",
    "da.info()"
   ]
  },
  {
   "cell_type": "code",
   "execution_count": 17,
   "metadata": {},
   "outputs": [
    {
     "name": "stdout",
     "output_type": "stream",
     "text": [
      "train cv accuracy when n_estimators= 10 : 0.805 +/- 0.007\n",
      "test cv accuracy when n_estimators= 10 : 0.804 +/- 0.017\n"
     ]
    }
   ],
   "source": [
    "from sklearn.model_selection import train_test_split\n",
    "from sklearn.ensemble import RandomForestClassifier\n",
    "from sklearn.model_selection import cross_val_score\n",
    "from sklearn.model_selection import StratifiedKFold\n",
    "import numpy as np\n",
    "n_estimators=10\n",
    "X = da.iloc[:, :-1].values\n",
    "y = da['DEFAULT'].values\n",
    "X_train, X_test, y_train, y_test = train_test_split(X,y,test_size=0.1,stratify=y,random_state=1)\n",
    "forest1 = RandomForestClassifier(criterion='gini',n_estimators=n_estimators,random_state=1,n_jobs=2)\n",
    "kfold=StratifiedKFold(n_splits=10,random_state=1).split(X_train,y_train)\n",
    "train_scores=cross_val_score(estimator=forest1,X=X_train,y=y_train,cv=10,n_jobs=1)\n",
    "test_scores=cross_val_score(estimator=forest1,X=X_test,y=y_test,cv=10,n_jobs=1)\n",
    "print('train cv accuracy when n_estimators= %.i : %.3f +/- %.3f' % (n_estimators,np.mean(train_scores),np.std(train_scores)))\n",
    "print('test cv accuracy when n_estimators= %.i : %.3f +/- %.3f' % (n_estimators,np.mean(test_scores),np.std(test_scores)))"
   ]
  },
  {
   "cell_type": "code",
   "execution_count": 18,
   "metadata": {},
   "outputs": [
    {
     "name": "stdout",
     "output_type": "stream",
     "text": [
      "train cv accuracy when n_estimators= 20 : 0.812 +/- 0.006\n",
      "test cv accuracy when n_estimators= 20 : 0.806 +/- 0.022\n"
     ]
    }
   ],
   "source": [
    "n_estimators=20\n",
    "forest2 = RandomForestClassifier(criterion='gini',n_estimators=n_estimators,random_state=1,n_jobs=2)\n",
    "kfold=StratifiedKFold(n_splits=10,random_state=1).split(X_train,y_train)\n",
    "train_scores=cross_val_score(estimator=forest2,X=X_train,y=y_train,cv=10,n_jobs=1)\n",
    "test_scores=cross_val_score(estimator=forest2,X=X_test,y=y_test,cv=10,n_jobs=1)\n",
    "print('train cv accuracy when n_estimators= %.i : %.3f +/- %.3f' % (n_estimators,np.mean(train_scores),np.std(train_scores)))\n",
    "print('test cv accuracy when n_estimators= %.i : %.3f +/- %.3f' % (n_estimators,np.mean(test_scores),np.std(test_scores)))"
   ]
  },
  {
   "cell_type": "code",
   "execution_count": 19,
   "metadata": {},
   "outputs": [
    {
     "name": "stdout",
     "output_type": "stream",
     "text": [
      "train cv accuracy when n_estimators= 50 : 0.816 +/- 0.007\n",
      "test cv accuracy when n_estimators= 50 : 0.810 +/- 0.021\n"
     ]
    }
   ],
   "source": [
    "n_estimators=50\n",
    "forest3 = RandomForestClassifier(criterion='gini',n_estimators=n_estimators,random_state=1,n_jobs=2)\n",
    "kfold=StratifiedKFold(n_splits=10,random_state=1).split(X_train,y_train)\n",
    "train_scores=cross_val_score(estimator=forest3,X=X_train,y=y_train,cv=10,n_jobs=1)\n",
    "test_scores=cross_val_score(estimator=forest3,X=X_test,y=y_test,cv=10,n_jobs=1)\n",
    "print('train cv accuracy when n_estimators= %.i : %.3f +/- %.3f' % (n_estimators,np.mean(train_scores),np.std(train_scores)))\n",
    "print('test cv accuracy when n_estimators= %.i : %.3f +/- %.3f' % (n_estimators,np.mean(test_scores),np.std(test_scores)))"
   ]
  },
  {
   "cell_type": "code",
   "execution_count": 20,
   "metadata": {},
   "outputs": [
    {
     "name": "stdout",
     "output_type": "stream",
     "text": [
      "train cv accuracy when n_estimators= 100 : 0.816 +/- 0.006\n",
      "test cv accuracy when n_estimators= 100 : 0.814 +/- 0.018\n"
     ]
    }
   ],
   "source": [
    "n_estimators=100\n",
    "forest4 = RandomForestClassifier(criterion='gini',n_estimators=n_estimators,random_state=1,n_jobs=2)\n",
    "kfold=StratifiedKFold(n_splits=10,random_state=1).split(X_train,y_train)\n",
    "train_scores=cross_val_score(estimator=forest4,X=X_train,y=y_train,cv=10,n_jobs=1)\n",
    "test_scores=cross_val_score(estimator=forest4,X=X_test,y=y_test,cv=10,n_jobs=1)\n",
    "print('train cv accuracy when n_estimators= %.i : %.3f +/- %.3f' % (n_estimators,np.mean(train_scores),np.std(train_scores)))\n",
    "print('test cv accuracy when n_estimators= %.i : %.3f +/- %.3f' % (n_estimators,np.mean(test_scores),np.std(test_scores)))"
   ]
  },
  {
   "cell_type": "code",
   "execution_count": 21,
   "metadata": {},
   "outputs": [
    {
     "name": "stdout",
     "output_type": "stream",
     "text": [
      "train cv accuracy when n_estimators= 200 : 0.817 +/- 0.006\n",
      "test cv accuracy when n_estimators= 200 : 0.817 +/- 0.018\n"
     ]
    }
   ],
   "source": [
    "n_estimators=200\n",
    "forest5 = RandomForestClassifier(criterion='gini',n_estimators=n_estimators,random_state=1,n_jobs=2)\n",
    "kfold=StratifiedKFold(n_splits=10,random_state=1).split(X_train,y_train)\n",
    "train_scores=cross_val_score(estimator=forest5,X=X_train,y=y_train,cv=10,n_jobs=1)\n",
    "test_scores=cross_val_score(estimator=forest5,X=X_test,y=y_test,cv=10,n_jobs=1)\n",
    "print('train cv accuracy when n_estimators= %.i : %.3f +/- %.3f' % (n_estimators,np.mean(train_scores),np.std(train_scores)))\n",
    "print('test cv accuracy when n_estimators= %.i : %.3f +/- %.3f' % (n_estimators,np.mean(test_scores),np.std(test_scores)))"
   ]
  },
  {
   "cell_type": "code",
   "execution_count": 34,
   "metadata": {},
   "outputs": [
    {
     "name": "stdout",
     "output_type": "stream",
     "text": [
      " 1) PAY_0                          0.095263\n",
      " 2) AGE                            0.067765\n",
      " 3) BILL_AMT1                      0.060900\n",
      " 4) LIMIT_BAL                      0.060055\n",
      " 5) BILL_AMT2                      0.054563\n",
      " 6) BILL_AMT3                      0.052115\n",
      " 7) BILL_AMT6                      0.050414\n",
      " 8) PAY_AMT1                       0.050305\n",
      " 9) BILL_AMT4                      0.050253\n",
      "10) BILL_AMT5                      0.049639\n",
      "11) PAY_AMT2                       0.048203\n",
      "12) PAY_2                          0.048059\n",
      "13) PAY_AMT3                       0.046629\n",
      "14) PAY_AMT6                       0.045892\n",
      "15) PAY_AMT4                       0.043523\n",
      "16) PAY_AMT5                       0.043482\n",
      "17) PAY_3                          0.026382\n",
      "18) PAY_4                          0.022653\n",
      "19) EDUCATION                      0.020544\n",
      "20) PAY_5                          0.018764\n",
      "21) PAY_6                          0.018551\n",
      "22) MARRIAGE                       0.013955\n",
      "23) SEX                            0.012091\n"
     ]
    },
    {
     "data": {
      "image/png": "[encoded data removed]",
      "text/plain": [
       "<Figure size 432x288 with 1 Axes>"
      ]
     },
     "metadata": {
      "needs_background": "light"
     },
     "output_type": "display_data"
    }
   ],
   "source": [
    "import matplotlib.pyplot as plt\n",
    "%matplotlib inline\n",
    "feat_labels = da.columns[:-1]\n",
    "forest5.fit(X_train, y_train)\n",
    "importances = forest5.feature_importances_\n",
    "indices = np.argsort(importances)[::-1]\n",
    "for f in range(X_train.shape[1]):\n",
    "    print(\"%2d) %-*s %f\" % (f + 1, 30, feat_labels[indices[f]],importances[indices[f]]))\n",
    "plt.title('Feature Importance')\n",
    "plt.bar(range(X_train.shape[1]),importances[indices],align='center')\n",
    "plt.xticks(range(X_train.shape[1]),feat_labels[indices], rotation=90)\n",
    "plt.xlim([-1, X_train.shape[1]])\n",
    "plt.tight_layout()\n",
    "plt.show()"
   ]
  },
  {
   "cell_type": "code",
   "execution_count": 35,
   "metadata": {},
   "outputs": [
    {
     "name": "stdout",
     "output_type": "stream",
     "text": [
      "My name is Binjie Xu\n",
      "My NetID is: binjiex2\n",
      "I hereby certify that I have read the University policy on Academic Integrity and that I am not in violation.\n"
     ]
    }
   ],
   "source": [
    "print(\"My name is Binjie Xu\")\n",
    "print(\"My NetID is: binjiex2\")\n",
    "print(\"I hereby certify that I have read the University policy on Academic Integrity and that I am not in violation.\")"
   ]
  }
 ],
 "metadata": {
  "kernelspec": {
   "display_name": "Python 3",
   "language": "python",
   "name": "python3"
  },
  "language_info": {
   "codemirror_mode": {
    "name": "ipython",
    "version": 3
   },
   "file_extension": ".py",
   "mimetype": "text/x-python",
   "name": "python",
   "nbconvert_exporter": "python",
   "pygments_lexer": "ipython3",
   "version": "3.7.3"
  }
 },
 "nbformat": 4,
 "nbformat_minor": 2
}
